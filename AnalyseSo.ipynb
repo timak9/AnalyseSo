{
 "cells": [
  {
   "cell_type": "code",
   "execution_count": 1,
   "metadata": {
    "scrolled": false
   },
   "outputs": [
    {
     "name": "stdout",
     "output_type": "stream",
     "text": [
      "Requirement already satisfied: yfinance in c:\\users\\psgsu\\anaconda3\\lib\\site-packages (0.1.67)\n",
      "Requirement already satisfied: requests>=2.20 in c:\\users\\psgsu\\anaconda3\\lib\\site-packages (from yfinance) (2.24.0)\n",
      "Requirement already satisfied: numpy>=1.15 in c:\\users\\psgsu\\anaconda3\\lib\\site-packages (from yfinance) (1.19.2)\n",
      "Requirement already satisfied: lxml>=4.5.1 in c:\\users\\psgsu\\anaconda3\\lib\\site-packages (from yfinance) (4.6.1)\n",
      "Requirement already satisfied: pandas>=0.24 in c:\\users\\psgsu\\anaconda3\\lib\\site-packages (from yfinance) (1.1.3)\n",
      "Requirement already satisfied: multitasking>=0.0.7 in c:\\users\\psgsu\\anaconda3\\lib\\site-packages (from yfinance) (0.0.10)\n",
      "Requirement already satisfied: chardet<4,>=3.0.2 in c:\\users\\psgsu\\anaconda3\\lib\\site-packages (from requests>=2.20->yfinance) (3.0.4)\n",
      "Requirement already satisfied: idna<3,>=2.5 in c:\\users\\psgsu\\anaconda3\\lib\\site-packages (from requests>=2.20->yfinance) (2.10)\n",
      "Requirement already satisfied: urllib3!=1.25.0,!=1.25.1,<1.26,>=1.21.1 in c:\\users\\psgsu\\anaconda3\\lib\\site-packages (from requests>=2.20->yfinance) (1.25.11)\n",
      "Requirement already satisfied: certifi>=2017.4.17 in c:\\users\\psgsu\\anaconda3\\lib\\site-packages (from requests>=2.20->yfinance) (2020.6.20)\n",
      "Requirement already satisfied: python-dateutil>=2.7.3 in c:\\users\\psgsu\\anaconda3\\lib\\site-packages (from pandas>=0.24->yfinance) (2.8.1)\n",
      "Requirement already satisfied: pytz>=2017.2 in c:\\users\\psgsu\\anaconda3\\lib\\site-packages (from pandas>=0.24->yfinance) (2020.1)\n",
      "Requirement already satisfied: six>=1.5 in c:\\users\\psgsu\\anaconda3\\lib\\site-packages (from python-dateutil>=2.7.3->pandas>=0.24->yfinance) (1.15.0)\n"
     ]
    }
   ],
   "source": [
    "import sys\n",
    "!{sys.executable} -m pip install yfinance\n",
    "#!{sys.executable} -m pip install pywhatkit"
   ]
  },
  {
   "cell_type": "code",
   "execution_count": 19,
   "metadata": {
    "scrolled": true
   },
   "outputs": [],
   "source": [
    "import requests\n",
    "import json\n",
    "import pandas as pd\n",
    "import multiprocessing\n",
    "import datetime\n",
    "import time\n",
    "import matplotlib.pyplot as plt\n",
    "import yfinance as yf\n",
    "#import pywhatkit as kit"
   ]
  },
  {
   "cell_type": "code",
   "execution_count": 20,
   "metadata": {
    "scrolled": true
   },
   "outputs": [],
   "source": [
    "def get_data_player(name_card):\n",
    "\n",
    "    query = '''\n",
    "    {  \n",
    "\n",
    "    card(slug: \"'''+name_card+'''\") {\n",
    "    name\n",
    "    slug\n",
    "    position\n",
    "    price\n",
    "    u23Eligible\n",
    "    grade\n",
    "    xpNeededForNextGrade\n",
    "    age\n",
    "    \n",
    "    liveSingleSaleOffer{\n",
    "      price\n",
    "    }\n",
    "    \n",
    "    owners {\n",
    "      from\n",
    "      price\n",
    "    }\n",
    "    \n",
    "    player{\n",
    "      activeClub{\n",
    "        name\n",
    "        upcomingGames(first:5){\n",
    "          status\n",
    "          date\n",
    "          competition{\n",
    "            displayName\n",
    "          }\n",
    "          homeTeam{\n",
    "            ... on Club{\n",
    "              name\n",
    "            }\n",
    "          }\n",
    "          awayTeam{\n",
    "            ... on Club{\n",
    "              name\n",
    "            }\n",
    "          }\n",
    "        }\n",
    "      }\n",
    "      \n",
    "      allSo5Scores{\n",
    "        nodes{\n",
    "          playerGameStats{\n",
    "            gameStarted\n",
    "          }\n",
    "          score\n",
    "          detailedScore{\n",
    "            totalScore\n",
    "          }\n",
    "        \t\t\t\t}\n",
    "      }\n",
    "      \n",
    "      cardSupply{\n",
    "      \n",
    "        limited\n",
    "        rare\n",
    "        superRare\n",
    "        unique\n",
    "        season{\n",
    "          startYear\n",
    "        }\n",
    "      }\n",
    "    }\n",
    "  }\n",
    "}'''\n",
    "    \n",
    "    url = 'https://api.sorare.com/graphql/'\n",
    "    r = requests.post(url, json={'query': query})\n",
    "   # print('request status:', r.status_code)\n",
    "    data = r.json()\n",
    "    return data"
   ]
  },
  {
   "cell_type": "code",
   "execution_count": 21,
   "metadata": {
    "scrolled": true
   },
   "outputs": [],
   "source": [
    "'''Get name of card and return the price actualy (if he is sell) and all the price of all time'''\n",
    "\n",
    "def get_price_player(name_card):\n",
    "\n",
    "    query = '''\n",
    "    {  \n",
    "\n",
    "    cards(slugs: '''+name_card+''') {\n",
    "    slug\n",
    "    grade\n",
    "    liveSingleSaleOffer{\n",
    "      price\n",
    "    }\n",
    "    player{\n",
    "    cardSupply{\n",
    "        limited\n",
    "        rare\n",
    "        superRare\n",
    "        unique\n",
    "      }\n",
    "      }\n",
    "    \n",
    "    owners {\n",
    "      from\n",
    "      price\n",
    "      transferType\n",
    "    }\n",
    "    }\n",
    "}'''\n",
    "    \n",
    "    url = 'https://api.sorare.com/graphql/'\n",
    "    r = requests.post(url, json={'query': query})\n",
    "    #print('request status:', r.status_code)\n",
    "    data = r.json()\n",
    "    return data"
   ]
  },
  {
   "cell_type": "code",
   "execution_count": 22,
   "metadata": {
    "scrolled": true
   },
   "outputs": [],
   "source": [
    "def get_all_price(card):\n",
    "    position_first = card['slug'][-1::-1].index(\"-\")\n",
    "    name = card['slug'][:-1*(position_first+1)]\n",
    "    position_two = name[-1::-1].index(\"-\")\n",
    "    type_card = name[-1*(position_two):]    \n",
    "    lst_card_price_all = []\n",
    "    lst_sale_offer_price_all = []\n",
    "    lst_direct_offer_all =[]\n",
    "    lst_auction_all = []\n",
    "\n",
    "    for year in card['player']['cardSupply']:\n",
    "        number_all_card = list(year.values())\n",
    "        card_year = year['season']['startYear']\n",
    "        number_card = (\"limited\"==type_card)*number_all_card[0] + (\"rare\"==type_card)*number_all_card[1] + (\"superRare\"==type_card)*number_all_card[2] +(\"unique\"==type_card)*number_all_card[3]\n",
    "        #print(number_all_card,card_year)\n",
    "        lst_card_price = []\n",
    "        lst_sale_offer_price = []\n",
    "        lst_direct_offer =[]\n",
    "        lst_auction = []\n",
    "        name_all_player = '['\n",
    "        for j in range(((number_card)//100)+1):\n",
    "            name_all_player = '['\n",
    "            for i in range(1,101):\n",
    "                if(i+j*100>number_card):\n",
    "                    break\n",
    "                    # slug_card ,[grade,price_sell_actually,price_sell,date_sell]\n",
    "                lst_card_price.append(['',[0,0,0,'']])\n",
    "                name_all_player=name_all_player+'\"'+name[:-1*(position_two+5)]+str(card_year)+\"-\"+type_card+\"-\"+str(i+j*100)+'\",'\n",
    "            name_all_player = name_all_player[:-1]+']'\n",
    "            data_temp = get_price_player(name_all_player)\n",
    "            for k in range(0,100):\n",
    "                if(k+j*100>number_card-1):\n",
    "                    break\n",
    "                lst_card_price[k+j*100][0]=data_temp['data']['cards'][k]['slug']\n",
    "                lst_card_price[k+j*100][1][0]=data_temp['data']['cards'][k]['grade']\n",
    "                if data_temp['data']['cards'][k]['liveSingleSaleOffer'] is None:\n",
    "                    lst_card_price[k+j*100][1][1]=data_temp['data']['cards'][k]['liveSingleSaleOffer']\n",
    "                else:\n",
    "                    lst_card_price[k+j*100][1][1]=int(data_temp['data']['cards'][k]['liveSingleSaleOffer']['price'])\n",
    "                if (data_temp['data']['cards'][k]['owners'] != []):\n",
    "                    lst_card_price[k+j*100][1][2]=int(data_temp['data']['cards'][k]['owners'][0]['price'])\n",
    "                    lst_card_price[k+j*100][1][3]=data_temp['data']['cards'][k]['owners'][0]['from']\n",
    "                    lst_card_price[k+j*100][1][3]=datetime.date(int(lst_card_price[k+j*100][1][3][0:4]),int(lst_card_price[k+j*100][1][3][5:7]),int(lst_card_price[k+j*100][1][3][8:10]))\n",
    "                    for l in data_temp['data']['cards'][k]['owners']:\n",
    "                        if ((l['transferType'] == \"single_buy_offer\" or l['transferType'] == \"single_sale_offer\") and (l['from'] is not None)):\n",
    "                            lst_sale_offer_price.append([int(l['price'])/1000000000000000000,datetime.date(int(l['from'][0:4]),int(l['from'][5:7]),int(l['from'][8:10]))])\n",
    "                        if ((l['transferType'] == \"direct_offer\") and (l['from'] is not None)):\n",
    "                            lst_direct_offer.append([int(l['price'])/1000000000000000000,datetime.date(int(l['from'][0:4]),int(l['from'][5:7]),int(l['from'][8:10]))])\n",
    "                        if ((l['transferType'] == \"auction\") and (l['from'] is not None)):\n",
    "                            lst_auction.append([int(l['price'])/1000000000000000000,datetime.date(int(l['from'][0:4]),int(l['from'][5:7]),int(l['from'][8:10]))])\n",
    "\n",
    "                else:\n",
    "                    lst_card_price[k+j*100][1][2] = None\n",
    "                    lst_card_price[k+j*100][1][3] = None\n",
    "                lst_card_price_all.extend(lst_card_price)\n",
    "                lst_sale_offer_price_all.extend(lst_sale_offer_price)\n",
    "                lst_direct_offer_all.extend(lst_direct_offer)\n",
    "                lst_auction_all.extend(lst_auction)\n",
    "                    \n",
    "                \n",
    "\n",
    "        \n",
    "    \n",
    "    #return get_price_player(name_all_player),lst_card_price\n",
    "    \n",
    "    \n",
    "    #return [lst_card_price,lst_sale_offer_price,lst_direct_offer,lst_auction]\n",
    "   \n",
    "    return [lst_card_price_all,lst_sale_offer_price_all,lst_direct_offer_all,lst_auction_all]\n",
    "\n",
    "    #return name_all_player\n",
    "    #return number_all_card,name[:-position_two-1-4],(name[:-position_two-1][-4:])"
   ]
  },
  {
   "cell_type": "markdown",
   "metadata": {},
   "source": [
    "\n",
    "test1= get_all_price(get_data_player(\"dong-geon-no-2021-rare-2\")['data']['card'])\n",
    "print(test1)"
   ]
  },
  {
   "cell_type": "code",
   "execution_count": 23,
   "metadata": {
    "scrolled": true
   },
   "outputs": [],
   "source": [
    "def get_small_price_actually(lst_card_price,xp=0):\n",
    "    small_price, name = None, \"\"\n",
    "    for i in lst_card_price:\n",
    "        if (i[1][1] is not None and i[1][0]>=xp):\n",
    "            if  (small_price == None):\n",
    "                small_price = i[1][1]\n",
    "                name = i[0]\n",
    "            elif i[1][1]<small_price :\n",
    "                small_price = i[1][1]\n",
    "                name = i[0]\n",
    "    return small_price,name"
   ]
  },
  {
   "cell_type": "code",
   "execution_count": 24,
   "metadata": {
    "scrolled": true
   },
   "outputs": [],
   "source": [
    "def get_small_price_period(lst_card_price,xp=0,last_day=7):\n",
    "    small_price, name = None, \"\"\n",
    "    for i in lst_card_price:\n",
    "        if (i[1][2] is not None and i[1][0]>=xp) and i[1][2] != 0 and int((datetime.date.today() - i[1][3]).days)<=last_day:\n",
    "            if  (small_price == None):\n",
    "                small_price = i[1][2]\n",
    "                name = i[0]\n",
    "            elif i[1][2]<small_price :\n",
    "                small_price = i[1][2]\n",
    "                name = i[0]\n",
    "    return small_price,name\n",
    "    "
   ]
  },
  {
   "cell_type": "code",
   "execution_count": 25,
   "metadata": {
    "scrolled": true
   },
   "outputs": [],
   "source": [
    "def send_message(player,price_went=20,number_phone = \"+972533301998\",last_send=\"\"):\n",
    "    data_player = get_price_player('[\"'+player+'\"]')['data']['cards'][0]\n",
    "    all_price = get_all_price(data_player)[0]\n",
    "    last_send = \"\"\n",
    "    price_online,name_price_online = get_small_price_actually(all_price)\n",
    "    price_online /=1000000000000000000\n",
    "    price_eur = round((price_online)*get_value_eth_euro(price_online,datetime.date.today()),2)\n",
    "    url = 'https://sorare.com/cards/'+name_price_online\n",
    "    if price_online is not None :\n",
    "        if price_online<=price_went and last_send!=url:\n",
    "            last_send = url\n",
    "            second = datetime.datetime.now().second\n",
    "            second = (second>40)\n",
    "            kit.sendwhatmsg(number_phone,url,datetime.datetime.now().hour,datetime.datetime.now().minute+1+second)\n",
    "    return last_send"
   ]
  },
  {
   "cell_type": "code",
   "execution_count": 26,
   "metadata": {
    "scrolled": true
   },
   "outputs": [],
   "source": [
    "def verif_all_player_message(number_phone=\"+972533301998\"):\n",
    "    p = open('acheter.txt','r')\n",
    "    players = p.read().split(\"\\n\")\n",
    "    for i in range(len(players)):\n",
    "        print(players[i],\"\\nPrice you went, in ETH (0 if is not important)\")\n",
    "        temp_price = float(input())\n",
    "        players[i] = [players[i],temp_price*(temp_price>0)+20*(temp_price<=0),\"\"]\n",
    "    while(True):\n",
    "        for j in range(len(players)):\n",
    "            players[j][2]=send_message(players[j][0],players[j][1],number_phone,players[j][2])"
   ]
  },
  {
   "cell_type": "code",
   "execution_count": 27,
   "metadata": {
    "scrolled": true
   },
   "outputs": [],
   "source": [
    "def get_score_data(data_player):\n",
    "    all_score = []\n",
    "    for i in data_player['player']['allSo5Scores']['nodes']:\n",
    "        if i['playerGameStats']['gameStarted'] == 1:\n",
    "            start = True\n",
    "        else:\n",
    "            start = False\n",
    "        if i['score'] is not None:\n",
    "            score_temp = round(i['score'])\n",
    "        else:\n",
    "            score_temp = 0\n",
    "        if i['detailedScore'][0]['totalScore'] is not None:\n",
    "            decisif_score = round(i['detailedScore'][0]['totalScore'])\n",
    "        else:\n",
    "            decisif_score = 0\n",
    "        complet_score = (score_temp - decisif_score)*((score_temp - decisif_score >0))\n",
    "        all_score.append([start,score_temp,decisif_score,complet_score])\n",
    "    return all_score"
   ]
  },
  {
   "cell_type": "code",
   "execution_count": 28,
   "metadata": {
    "scrolled": true
   },
   "outputs": [],
   "source": [
    "def get_average(score_list):\n",
    "    average5,average15,average40 = 0,0,0\n",
    "    count5,count15,count40 = 0,0,0\n",
    "    for count, value in enumerate(score_list):\n",
    "        if count < 5 :\n",
    "            count5 += (value[1]>0)\n",
    "            average5+= value[1]\n",
    "        if count < 15 :\n",
    "            count15 += (value[1]>0)\n",
    "            average15+= value[1]\n",
    "        if count < 40 :\n",
    "            count40 += (value[1]>0)\n",
    "            average40+= value[1]\n",
    "    return average5/((count5)*(count5!=0)+(count5==0)),average15/((count15)*(count15!=0)+(count15==0)),average40/((count40)*(count40!=0)+(count40==0))\n",
    "    "
   ]
  },
  {
   "cell_type": "code",
   "execution_count": 29,
   "metadata": {
    "scrolled": true
   },
   "outputs": [],
   "source": [
    "def get_value_eth_euro(eth,date):\n",
    "    date_txt = str(date.year)+\"-\"+str(date.month)+\"-\"+str(date.day)\n",
    "    eth_value = yf.download(tickers='ETH-EUR',start = date_txt,time_interval = \"hourly\", progress = False)\n",
    "    return eth_value['Open'][0]"
   ]
  },
  {
   "cell_type": "code",
   "execution_count": 30,
   "metadata": {
    "scrolled": true
   },
   "outputs": [],
   "source": [
    "def sort_list(lst):\n",
    "    l = len(lst) \n",
    "    for i in range(0, l): \n",
    "        for j in range(0, l-i-1): \n",
    "            if (lst[j][1] > lst[j + 1][1]): \n",
    "                tempo = lst[j] \n",
    "                lst[j]= lst[j + 1] \n",
    "                lst[j + 1]= tempo\n",
    "    price = [i[0] for i in lst]\n",
    "    date = [i[1] for i in lst]\n",
    "    return [price,date]"
   ]
  },
  {
   "cell_type": "code",
   "execution_count": 31,
   "metadata": {
    "scrolled": true
   },
   "outputs": [],
   "source": [
    "def graph_price(all_price):\n",
    "    lst_sale_offer_price = sort_list(all_price[1])\n",
    "    lst_direct_offer =sort_list(all_price[2])\n",
    "    lst_auction = sort_list(all_price[3])\n",
    "    plt.rcParams[\"figure.figsize\"] = (20,5)\n",
    "    sale_offer = plt.scatter(lst_sale_offer_price[1],lst_sale_offer_price[0], c='red')\n",
    "    direct_offer = plt.scatter(lst_direct_offer[1],lst_direct_offer[0], c='blue')\n",
    "    auction = plt.scatter(lst_auction[1],lst_auction[0], c='green')\n",
    "    plt.legend((sale_offer,direct_offer,auction),('Sale Offer','Direct Offer', 'Auction'))\n",
    "    #,figsize=(4,4)\n",
    "    plt.title('Price of the player')\n",
    "    plt.xlabel('Date')\n",
    "    plt.ylabel('ETH')\n",
    "    #plt.savefig('ScatterPlot_01.png')\n",
    "    plt.show()\n"
   ]
  },
  {
   "cell_type": "code",
   "execution_count": 32,
   "metadata": {
    "scrolled": true
   },
   "outputs": [],
   "source": [
    "def graph_grade(all_grade):\n",
    "    lst_decisive = [i[3] for i in all_grade]\n",
    "    lst_Full =[i[2] for i in all_grade]\n",
    "    lst_total = [i[1] for i in all_grade]\n",
    "    lst_last_game = [i for i in range(len(all_grade))]\n",
    "    plt.rcParams[\"figure.figsize\"] = (20,5)\n",
    "    sale_offer = plt.scatter(lst_last_game,lst_decisive, c='red')\n",
    "    direct_offer = plt.scatter(lst_last_game,lst_Full, c='blue')\n",
    "    auction = plt.scatter(lst_last_game,lst_total, c='green')\n",
    "    plt.legend((sale_offer,direct_offer,auction),('All Around','Decisive', 'Total'))\n",
    "    plt.title('Score of the player')\n",
    "    plt.xlabel('Last X Game')\n",
    "    plt.ylabel('Score')\n",
    "    plt.show()\n"
   ]
  },
  {
   "cell_type": "code",
   "execution_count": 33,
   "metadata": {
    "scrolled": true
   },
   "outputs": [],
   "source": [
    "def get_slug(user,type_card):\n",
    "    query = '''\n",
    "    { user(slug: \"'''+user+'''\"){\n",
    "  cards{\n",
    "    slug\n",
    "    rarity\n",
    "  }\n",
    "}\n",
    "}'''\n",
    "    \n",
    "    url = 'https://api.sorare.com/graphql/'\n",
    "    r = requests.post(url, json={'query': query})\n",
    "    #print('request status:', r.status_code)\n",
    "    data = r.json()\n",
    "    lst_player = []\n",
    "    for i in data['data']['user']['cards']:\n",
    "        if i['rarity'] == type_card:\n",
    "            lst_player.append(i['slug'])\n",
    "    return lst_player"
   ]
  },
  {
   "cell_type": "code",
   "execution_count": 34,
   "metadata": {
    "scrolled": true
   },
   "outputs": [],
   "source": [
    "def get_all_data(player,last_day_score=5,xp=0,last_day_buy=7):\n",
    "    data_player = get_data_player(player)['data']['card']\n",
    "    all_score = get_score_data(data_player)\n",
    "    av5,av15,av40 = get_average(all_score)\n",
    "    every_price = get_all_price(data_player)\n",
    "    all_price = every_price[0]\n",
    "    price_online,name_price_online = get_small_price_actually(all_price,xp)\n",
    "    price_last,name_price_last = get_small_price_period(all_price,xp,last_day_buy)\n",
    "    date_buy = datetime.date(int(data_player['owners'][0]['from'][0:4]),int(data_player['owners'][0]['from'][5:7]),int(data_player['owners'][0]['from'][8:10]))\n",
    "        \n",
    "    print(\"Name: \\t\\t\",data_player['name'])\n",
    "    print(\"Squad: \\t\\t\",data_player['player']['activeClub']['name'])\n",
    "    print(\"Grade: \\t\\t\",data_player['grade'])\n",
    "    print(\"Age: \\t\\t\",data_player['age'])\n",
    "    print(\"Position: \\t\",data_player['position'])\n",
    "    print(\"Next 5 games: \")\n",
    "    for i in data_player['player']['activeClub']['upcomingGames']:\n",
    "        print(\"\\t\\t Competition:\\t\",i['competition']['displayName'])\n",
    "        print(\"\\t\\t Match:\\t\\t\",i['homeTeam']['name'],\" - \",i['awayTeam']['name'])\n",
    "        print(\"\\t\\t Date:\\t\\t\",i['date'][8:10]+i['date'][4:8]+i['date'][0:4],\"on :\",i['date'][11:16])\n",
    "        print(\"\\t\\t Status:\\t\\t\",i['status'],\"\\n\")\n",
    "    print(\"Av 5 games: \\t\",av5)\n",
    "    print(\"Av 15 games: \\t\",round(av15))\n",
    "    print(\"Av 40 games: \\t\",round(av40))\n",
    "    print(\"Score: \\t\\t\")\n",
    "    for count, j in enumerate(all_score):\n",
    "        if count >=last_day_score:\n",
    "            break\n",
    "        print(\"\\t\\t Holder:\\t\",j[0])\n",
    "        print(\"\\t\\t Decisive:\\t\",j[3])\n",
    "        print(\"\\t\\t Full:\\t\\t\",j[2])\n",
    "        print(\"\\t\\t Total:\\t\\t\",j[1])\n",
    "        print()\n",
    "    graph_grade(all_score)\n",
    "    print()\n",
    "    print(\"Price:\")\n",
    "    print(\"\\t\\t We buy:\\t\\t\",int(data_player['price'])/1000000000000000000,\"ETH,\",round((int(data_player['price'])/1000000000000000000)*get_value_eth_euro(int(data_player['price'])/1000000000000000000,datetime.date.today()),2),\"EURO (current rate),\",round((int(data_player['price'])/1000000000000000000)*get_value_eth_euro(int(data_player['price'])/1000000000000000000,date_buy),2),\"EURO (On Buy)\")\n",
    "    if price_online is not None:\n",
    "        print(\"\\t\\t Actualy on sell:\\t\",price_online/1000000000000000000,\"ETH,\",round((price_online/1000000000000000000)*get_value_eth_euro(price_online/1000000000000000000,datetime.date.today()),2),\"EURO,\",name_price_online)\n",
    "    if price_last is not None:\n",
    "        print(\"\\t\\t Last\",last_day_buy,\"on sell:\\t\",price_last/1000000000000000000,\"ETH,\",round((price_last/1000000000000000000)*get_value_eth_euro(price_last/1000000000000000000,datetime.date.today()),2),\"EURO\",name_price_last)\n",
    "    else:\n",
    "        price_last = 0\n",
    "    graph_price(every_price)\n",
    "    return int(data_player['price']),price_last"
   ]
  },
  {
   "cell_type": "code",
   "execution_count": 37,
   "metadata": {
    "scrolled": true
   },
   "outputs": [],
   "source": [
    "def allPlayerPrint(players,last_day_score=5,xp=0,last_day_buy=7):\n",
    "    value_squad_buy,value_squad_today = 0,0\n",
    "    for count, play in enumerate(players):\n",
    "        value_squad_buy_t,value_squad_today_t=(get_all_data(play,last_day_score,xp,last_day_buy))\n",
    "        value_squad_buy+=value_squad_buy_t\n",
    "        value_squad_today+=value_squad_today_t\n",
    "        print(\"\\n\\n______________________________________________________________________________________________________________________\\n\\n\")\n",
    "        if (count%10==9):\n",
    "            time.sleep(30)\n",
    "    value_squad_buy/=1000000000000000000\n",
    "    value_squad_today/=1000000000000000000\n",
    "    print(\"Value Squad when buy:\\t\\t\",value_squad_buy,\"ETH,\",round(value_squad_buy*get_value_eth_euro(value_squad_buy,datetime.date.today()),2),\"EURO\")\n",
    "    print(\"Value Squad minimum today:\\t\",value_squad_today,\"ETH,\",round(value_squad_today*get_value_eth_euro(value_squad_today,datetime.date.today()),2),\"EURO\")"
   ]
  },
  {
   "cell_type": "markdown",
   "metadata": {},
   "source": [
    "# \n"
   ]
  },
  {
   "cell_type": "markdown",
   "metadata": {},
   "source": [
    "# "
   ]
  },
  {
   "cell_type": "markdown",
   "metadata": {},
   "source": [
    "# "
   ]
  },
  {
   "cell_type": "markdown",
   "metadata": {},
   "source": [
    "\n",
    "\n",
    "\n",
    "\n",
    "\n",
    "# Lancer simplement la fonction ci-dessous\n",
    "\n",
    "\n",
    "## Parametre optionelle :\n",
    "\n",
    "### last_day_score=x, afficher les derniers x notes du joueurs (par defaut 5)\n",
    "### xp=x, afficher le prix des joueurs ayant un xp superieur ou egal a x, (par defaut 0)\n",
    "### last_day_buy=x, afficher le prix le plus bas dans les x dernier jours, (par defaut 7)"
   ]
  },
  {
   "cell_type": "markdown",
   "metadata": {},
   "source": [
    "# "
   ]
  },
  {
   "cell_type": "markdown",
   "metadata": {},
   "source": [
    "#### verif_all_player_message() send message automaticaly\n",
    "#####  number_phone = \"+xxxxxxxxx\""
   ]
  },
  {
   "cell_type": "markdown",
   "metadata": {},
   "source": [
    "# "
   ]
  },
  {
   "cell_type": "code",
   "execution_count": null,
   "metadata": {},
   "outputs": [],
   "source": [
    "players = get_slug(user=\"sotech\",type_card=\"limited\")\n",
    "allPlayerPrint(players)"
   ]
  },
  {
   "cell_type": "code",
   "execution_count": null,
   "metadata": {
    "scrolled": true
   },
   "outputs": [],
   "source": []
  }
 ],
 "metadata": {
  "kernelspec": {
   "display_name": "Python 3",
   "language": "python",
   "name": "python3"
  },
  "language_info": {
   "codemirror_mode": {
    "name": "ipython",
    "version": 3
   },
   "file_extension": ".py",
   "mimetype": "text/x-python",
   "name": "python",
   "nbconvert_exporter": "python",
   "pygments_lexer": "ipython3",
   "version": "3.8.5"
  }
 },
 "nbformat": 4,
 "nbformat_minor": 4
}
